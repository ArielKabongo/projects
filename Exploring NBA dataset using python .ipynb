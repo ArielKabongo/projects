{
 "cells": [
  {
   "cell_type": "code",
   "execution_count": 268,
   "id": "14561ccc",
   "metadata": {},
   "outputs": [],
   "source": [
    "import pandas as pd\n",
    "import numpy as np\n",
    "import matplotlib.pylab as plt\n",
    "import seaborn as sns\n",
    "plt.style.use('ggplot')\n",
    "#pd.set_option('max_columns', 200)\n"
   ]
  },
  {
   "cell_type": "code",
   "execution_count": 269,
   "id": "7f158c3e",
   "metadata": {
    "scrolled": true
   },
   "outputs": [],
   "source": [
    "df = pd.read_csv('game_scores.csv')"
   ]
  },
  {
   "cell_type": "code",
   "execution_count": 270,
   "id": "2c87944b",
   "metadata": {},
   "outputs": [
    {
     "data": {
      "text/html": [
       "<div>\n",
       "<style scoped>\n",
       "    .dataframe tbody tr th:only-of-type {\n",
       "        vertical-align: middle;\n",
       "    }\n",
       "\n",
       "    .dataframe tbody tr th {\n",
       "        vertical-align: top;\n",
       "    }\n",
       "\n",
       "    .dataframe thead th {\n",
       "        text-align: right;\n",
       "    }\n",
       "</style>\n",
       "<table border=\"1\" class=\"dataframe\">\n",
       "  <thead>\n",
       "    <tr style=\"text-align: right;\">\n",
       "      <th></th>\n",
       "      <th>Unnamed: 0</th>\n",
       "      <th>MATCHID</th>\n",
       "      <th>DATE</th>\n",
       "      <th>SEASON</th>\n",
       "      <th>HOME</th>\n",
       "      <th>AWAY</th>\n",
       "      <th>W_HOME</th>\n",
       "      <th>W_AWAY</th>\n",
       "      <th>HOME_FG</th>\n",
       "      <th>AWAY_FG</th>\n",
       "      <th>...</th>\n",
       "      <th>HOME_AST</th>\n",
       "      <th>AWAY_AST</th>\n",
       "      <th>HOME_STL</th>\n",
       "      <th>AWAY_STL</th>\n",
       "      <th>HOME_TURNOVERS</th>\n",
       "      <th>AWAY_TURNOVERS</th>\n",
       "      <th>HOME_BLK</th>\n",
       "      <th>AWAY_BLK</th>\n",
       "      <th>HOME_PTS</th>\n",
       "      <th>AWAY_PTS</th>\n",
       "    </tr>\n",
       "  </thead>\n",
       "  <tbody>\n",
       "    <tr>\n",
       "      <th>0</th>\n",
       "      <td>0</td>\n",
       "      <td>21701214</td>\n",
       "      <td>04/10/2018</td>\n",
       "      <td>2017-18</td>\n",
       "      <td>Hawks</td>\n",
       "      <td>76ers</td>\n",
       "      <td>0</td>\n",
       "      <td>1</td>\n",
       "      <td>41</td>\n",
       "      <td>43</td>\n",
       "      <td>...</td>\n",
       "      <td>27</td>\n",
       "      <td>29</td>\n",
       "      <td>10</td>\n",
       "      <td>7</td>\n",
       "      <td>10</td>\n",
       "      <td>18</td>\n",
       "      <td>3</td>\n",
       "      <td>8</td>\n",
       "      <td>113</td>\n",
       "      <td>121</td>\n",
       "    </tr>\n",
       "    <tr>\n",
       "      <th>1</th>\n",
       "      <td>1</td>\n",
       "      <td>21701202</td>\n",
       "      <td>04/08/2018</td>\n",
       "      <td>2017-18</td>\n",
       "      <td>Celtics</td>\n",
       "      <td>Hawks</td>\n",
       "      <td>0</td>\n",
       "      <td>1</td>\n",
       "      <td>42</td>\n",
       "      <td>43</td>\n",
       "      <td>...</td>\n",
       "      <td>33</td>\n",
       "      <td>23</td>\n",
       "      <td>9</td>\n",
       "      <td>7</td>\n",
       "      <td>12</td>\n",
       "      <td>13</td>\n",
       "      <td>6</td>\n",
       "      <td>4</td>\n",
       "      <td>106</td>\n",
       "      <td>112</td>\n",
       "    </tr>\n",
       "    <tr>\n",
       "      <th>2</th>\n",
       "      <td>2</td>\n",
       "      <td>21701184</td>\n",
       "      <td>04/06/2018</td>\n",
       "      <td>2017-18</td>\n",
       "      <td>Wizards</td>\n",
       "      <td>Hawks</td>\n",
       "      <td>0</td>\n",
       "      <td>1</td>\n",
       "      <td>35</td>\n",
       "      <td>38</td>\n",
       "      <td>...</td>\n",
       "      <td>18</td>\n",
       "      <td>24</td>\n",
       "      <td>8</td>\n",
       "      <td>5</td>\n",
       "      <td>12</td>\n",
       "      <td>18</td>\n",
       "      <td>4</td>\n",
       "      <td>5</td>\n",
       "      <td>97</td>\n",
       "      <td>103</td>\n",
       "    </tr>\n",
       "    <tr>\n",
       "      <th>3</th>\n",
       "      <td>3</td>\n",
       "      <td>21701172</td>\n",
       "      <td>04/04/2018</td>\n",
       "      <td>2017-18</td>\n",
       "      <td>Hawks</td>\n",
       "      <td>Heat</td>\n",
       "      <td>0</td>\n",
       "      <td>1</td>\n",
       "      <td>33</td>\n",
       "      <td>42</td>\n",
       "      <td>...</td>\n",
       "      <td>20</td>\n",
       "      <td>23</td>\n",
       "      <td>5</td>\n",
       "      <td>9</td>\n",
       "      <td>16</td>\n",
       "      <td>12</td>\n",
       "      <td>6</td>\n",
       "      <td>10</td>\n",
       "      <td>86</td>\n",
       "      <td>115</td>\n",
       "    </tr>\n",
       "    <tr>\n",
       "      <th>4</th>\n",
       "      <td>4</td>\n",
       "      <td>21701158</td>\n",
       "      <td>04/03/2018</td>\n",
       "      <td>2017-18</td>\n",
       "      <td>Heat</td>\n",
       "      <td>Hawks</td>\n",
       "      <td>1</td>\n",
       "      <td>0</td>\n",
       "      <td>41</td>\n",
       "      <td>37</td>\n",
       "      <td>...</td>\n",
       "      <td>22</td>\n",
       "      <td>24</td>\n",
       "      <td>10</td>\n",
       "      <td>10</td>\n",
       "      <td>14</td>\n",
       "      <td>18</td>\n",
       "      <td>8</td>\n",
       "      <td>1</td>\n",
       "      <td>101</td>\n",
       "      <td>98</td>\n",
       "    </tr>\n",
       "  </tbody>\n",
       "</table>\n",
       "<p>5 rows × 42 columns</p>\n",
       "</div>"
      ],
      "text/plain": [
       "   Unnamed: 0   MATCHID        DATE   SEASON     HOME   AWAY  W_HOME  W_AWAY  \\\n",
       "0           0  21701214  04/10/2018  2017-18    Hawks  76ers       0       1   \n",
       "1           1  21701202  04/08/2018  2017-18  Celtics  Hawks       0       1   \n",
       "2           2  21701184  04/06/2018  2017-18  Wizards  Hawks       0       1   \n",
       "3           3  21701172  04/04/2018  2017-18    Hawks   Heat       0       1   \n",
       "4           4  21701158  04/03/2018  2017-18     Heat  Hawks       1       0   \n",
       "\n",
       "   HOME_FG  AWAY_FG  ...  HOME_AST  AWAY_AST  HOME_STL  AWAY_STL  \\\n",
       "0       41       43  ...        27        29        10         7   \n",
       "1       42       43  ...        33        23         9         7   \n",
       "2       35       38  ...        18        24         8         5   \n",
       "3       33       42  ...        20        23         5         9   \n",
       "4       41       37  ...        22        24        10        10   \n",
       "\n",
       "   HOME_TURNOVERS  AWAY_TURNOVERS  HOME_BLK  AWAY_BLK  HOME_PTS  AWAY_PTS  \n",
       "0              10              18         3         8       113       121  \n",
       "1              12              13         6         4       106       112  \n",
       "2              12              18         4         5        97       103  \n",
       "3              16              12         6        10        86       115  \n",
       "4              14              18         8         1       101        98  \n",
       "\n",
       "[5 rows x 42 columns]"
      ]
     },
     "execution_count": 270,
     "metadata": {},
     "output_type": "execute_result"
    }
   ],
   "source": [
    "df.head(5)"
   ]
  },
  {
   "cell_type": "code",
   "execution_count": 271,
   "id": "d6e9737e",
   "metadata": {},
   "outputs": [
    {
     "data": {
      "text/plain": [
       "Index(['Unnamed: 0', 'MATCHID', 'DATE', 'SEASON', 'HOME', 'AWAY', 'W_HOME',\n",
       "       'W_AWAY', 'HOME_FG', 'AWAY_FG', 'HOME_FGA', 'AWAY_FGA', 'HOME_FG_PCT',\n",
       "       'AWAY_FG_PCT', 'HOME_FG3', 'AWAY_FG3', 'HOME_FG3A', 'AWAY_FG3A',\n",
       "       'HOME_FG3_PCT', 'AWAY_FG3_PCT', 'HOME_FT', 'AWAY_FT', 'HOME_FTA',\n",
       "       'AWAY_FTA', 'HOME_FT_PCT', 'AWAY_FT_PCT', 'HOME_OFF_REB',\n",
       "       'AWAY_OFF_REB', 'HOME_DEF_REB', 'AWAY_DEF_REB', 'HOME_TOT_REB',\n",
       "       'AWAY_TOT_REB', 'HOME_AST', 'AWAY_AST', 'HOME_STL', 'AWAY_STL',\n",
       "       'HOME_TURNOVERS', 'AWAY_TURNOVERS', 'HOME_BLK', 'AWAY_BLK', 'HOME_PTS',\n",
       "       'AWAY_PTS'],\n",
       "      dtype='object')"
      ]
     },
     "execution_count": 271,
     "metadata": {},
     "output_type": "execute_result"
    }
   ],
   "source": [
    "df.columns"
   ]
  },
  {
   "cell_type": "code",
   "execution_count": 272,
   "id": "eefea62c",
   "metadata": {},
   "outputs": [],
   "source": [
    "df.set_index('Unnamed: 0', inplace = True)"
   ]
  },
  {
   "cell_type": "code",
   "execution_count": 273,
   "id": "98c8822c",
   "metadata": {},
   "outputs": [
    {
     "data": {
      "text/plain": [
       "MATCHID             int64\n",
       "DATE               object\n",
       "SEASON             object\n",
       "HOME               object\n",
       "AWAY               object\n",
       "W_HOME              int64\n",
       "W_AWAY              int64\n",
       "HOME_FG             int64\n",
       "AWAY_FG             int64\n",
       "HOME_FGA            int64\n",
       "AWAY_FGA            int64\n",
       "HOME_FG_PCT       float64\n",
       "AWAY_FG_PCT       float64\n",
       "HOME_FG3            int64\n",
       "AWAY_FG3            int64\n",
       "HOME_FG3A           int64\n",
       "AWAY_FG3A           int64\n",
       "HOME_FG3_PCT      float64\n",
       "AWAY_FG3_PCT      float64\n",
       "HOME_FT             int64\n",
       "AWAY_FT             int64\n",
       "HOME_FTA            int64\n",
       "AWAY_FTA            int64\n",
       "HOME_FT_PCT       float64\n",
       "AWAY_FT_PCT       float64\n",
       "HOME_OFF_REB        int64\n",
       "AWAY_OFF_REB        int64\n",
       "HOME_DEF_REB        int64\n",
       "AWAY_DEF_REB        int64\n",
       "HOME_TOT_REB        int64\n",
       "AWAY_TOT_REB        int64\n",
       "HOME_AST            int64\n",
       "AWAY_AST            int64\n",
       "HOME_STL            int64\n",
       "AWAY_STL            int64\n",
       "HOME_TURNOVERS      int64\n",
       "AWAY_TURNOVERS      int64\n",
       "HOME_BLK            int64\n",
       "AWAY_BLK            int64\n",
       "HOME_PTS            int64\n",
       "AWAY_PTS            int64\n",
       "dtype: object"
      ]
     },
     "execution_count": 273,
     "metadata": {},
     "output_type": "execute_result"
    }
   ],
   "source": [
    "df.dtypes"
   ]
  },
  {
   "cell_type": "code",
   "execution_count": 274,
   "id": "78b6c5e1",
   "metadata": {},
   "outputs": [
    {
     "data": {
      "text/html": [
       "<div>\n",
       "<style scoped>\n",
       "    .dataframe tbody tr th:only-of-type {\n",
       "        vertical-align: middle;\n",
       "    }\n",
       "\n",
       "    .dataframe tbody tr th {\n",
       "        vertical-align: top;\n",
       "    }\n",
       "\n",
       "    .dataframe thead th {\n",
       "        text-align: right;\n",
       "    }\n",
       "</style>\n",
       "<table border=\"1\" class=\"dataframe\">\n",
       "  <thead>\n",
       "    <tr style=\"text-align: right;\">\n",
       "      <th></th>\n",
       "      <th>MATCHID</th>\n",
       "      <th>W_HOME</th>\n",
       "      <th>W_AWAY</th>\n",
       "      <th>HOME_FG</th>\n",
       "      <th>AWAY_FG</th>\n",
       "      <th>HOME_FGA</th>\n",
       "      <th>AWAY_FGA</th>\n",
       "      <th>HOME_FG_PCT</th>\n",
       "      <th>AWAY_FG_PCT</th>\n",
       "      <th>HOME_FG3</th>\n",
       "      <th>...</th>\n",
       "      <th>HOME_AST</th>\n",
       "      <th>AWAY_AST</th>\n",
       "      <th>HOME_STL</th>\n",
       "      <th>AWAY_STL</th>\n",
       "      <th>HOME_TURNOVERS</th>\n",
       "      <th>AWAY_TURNOVERS</th>\n",
       "      <th>HOME_BLK</th>\n",
       "      <th>AWAY_BLK</th>\n",
       "      <th>HOME_PTS</th>\n",
       "      <th>AWAY_PTS</th>\n",
       "    </tr>\n",
       "  </thead>\n",
       "  <tbody>\n",
       "    <tr>\n",
       "      <th>count</th>\n",
       "      <td>7.059000e+03</td>\n",
       "      <td>7059.000000</td>\n",
       "      <td>7059.000000</td>\n",
       "      <td>7059.000000</td>\n",
       "      <td>7059.000000</td>\n",
       "      <td>7059.000000</td>\n",
       "      <td>7059.000000</td>\n",
       "      <td>7059.000000</td>\n",
       "      <td>7059.000000</td>\n",
       "      <td>7059.000000</td>\n",
       "      <td>...</td>\n",
       "      <td>7059.000000</td>\n",
       "      <td>7059.000000</td>\n",
       "      <td>7059.000000</td>\n",
       "      <td>7059.000000</td>\n",
       "      <td>7059.000000</td>\n",
       "      <td>7059.000000</td>\n",
       "      <td>7059.000000</td>\n",
       "      <td>7059.000000</td>\n",
       "      <td>7059.000000</td>\n",
       "      <td>7059.000000</td>\n",
       "    </tr>\n",
       "    <tr>\n",
       "      <th>mean</th>\n",
       "      <td>2.195074e+07</td>\n",
       "      <td>0.565944</td>\n",
       "      <td>0.434056</td>\n",
       "      <td>41.224536</td>\n",
       "      <td>40.551495</td>\n",
       "      <td>88.088114</td>\n",
       "      <td>88.169854</td>\n",
       "      <td>0.469031</td>\n",
       "      <td>0.460826</td>\n",
       "      <td>12.023516</td>\n",
       "      <td>...</td>\n",
       "      <td>24.903244</td>\n",
       "      <td>24.082023</td>\n",
       "      <td>7.535487</td>\n",
       "      <td>7.625726</td>\n",
       "      <td>14.085565</td>\n",
       "      <td>14.097606</td>\n",
       "      <td>4.933843</td>\n",
       "      <td>4.695566</td>\n",
       "      <td>112.105822</td>\n",
       "      <td>110.064457</td>\n",
       "    </tr>\n",
       "    <tr>\n",
       "      <th>std</th>\n",
       "      <td>1.743087e+05</td>\n",
       "      <td>0.495667</td>\n",
       "      <td>0.495667</td>\n",
       "      <td>5.210381</td>\n",
       "      <td>5.177058</td>\n",
       "      <td>7.163685</td>\n",
       "      <td>7.035244</td>\n",
       "      <td>0.055028</td>\n",
       "      <td>0.054234</td>\n",
       "      <td>3.899962</td>\n",
       "      <td>...</td>\n",
       "      <td>5.073544</td>\n",
       "      <td>5.021596</td>\n",
       "      <td>2.906444</td>\n",
       "      <td>2.893284</td>\n",
       "      <td>3.892730</td>\n",
       "      <td>3.927541</td>\n",
       "      <td>2.503274</td>\n",
       "      <td>2.410388</td>\n",
       "      <td>12.577129</td>\n",
       "      <td>12.600582</td>\n",
       "    </tr>\n",
       "    <tr>\n",
       "      <th>min</th>\n",
       "      <td>2.170000e+07</td>\n",
       "      <td>0.000000</td>\n",
       "      <td>0.000000</td>\n",
       "      <td>21.000000</td>\n",
       "      <td>23.000000</td>\n",
       "      <td>64.000000</td>\n",
       "      <td>63.000000</td>\n",
       "      <td>0.269000</td>\n",
       "      <td>0.277000</td>\n",
       "      <td>1.000000</td>\n",
       "      <td>...</td>\n",
       "      <td>10.000000</td>\n",
       "      <td>8.000000</td>\n",
       "      <td>0.000000</td>\n",
       "      <td>0.000000</td>\n",
       "      <td>1.000000</td>\n",
       "      <td>2.000000</td>\n",
       "      <td>0.000000</td>\n",
       "      <td>0.000000</td>\n",
       "      <td>69.000000</td>\n",
       "      <td>68.000000</td>\n",
       "    </tr>\n",
       "    <tr>\n",
       "      <th>25%</th>\n",
       "      <td>2.180054e+07</td>\n",
       "      <td>0.000000</td>\n",
       "      <td>0.000000</td>\n",
       "      <td>38.000000</td>\n",
       "      <td>37.000000</td>\n",
       "      <td>83.000000</td>\n",
       "      <td>83.000000</td>\n",
       "      <td>0.430000</td>\n",
       "      <td>0.424000</td>\n",
       "      <td>9.000000</td>\n",
       "      <td>...</td>\n",
       "      <td>21.000000</td>\n",
       "      <td>21.000000</td>\n",
       "      <td>5.000000</td>\n",
       "      <td>6.000000</td>\n",
       "      <td>11.000000</td>\n",
       "      <td>11.000000</td>\n",
       "      <td>3.000000</td>\n",
       "      <td>3.000000</td>\n",
       "      <td>104.000000</td>\n",
       "      <td>102.000000</td>\n",
       "    </tr>\n",
       "    <tr>\n",
       "      <th>50%</th>\n",
       "      <td>2.200001e+07</td>\n",
       "      <td>1.000000</td>\n",
       "      <td>0.000000</td>\n",
       "      <td>41.000000</td>\n",
       "      <td>40.000000</td>\n",
       "      <td>88.000000</td>\n",
       "      <td>88.000000</td>\n",
       "      <td>0.468000</td>\n",
       "      <td>0.460000</td>\n",
       "      <td>12.000000</td>\n",
       "      <td>...</td>\n",
       "      <td>25.000000</td>\n",
       "      <td>24.000000</td>\n",
       "      <td>7.000000</td>\n",
       "      <td>7.000000</td>\n",
       "      <td>14.000000</td>\n",
       "      <td>14.000000</td>\n",
       "      <td>5.000000</td>\n",
       "      <td>4.000000</td>\n",
       "      <td>112.000000</td>\n",
       "      <td>110.000000</td>\n",
       "    </tr>\n",
       "    <tr>\n",
       "      <th>75%</th>\n",
       "      <td>2.210070e+07</td>\n",
       "      <td>1.000000</td>\n",
       "      <td>1.000000</td>\n",
       "      <td>45.000000</td>\n",
       "      <td>44.000000</td>\n",
       "      <td>93.000000</td>\n",
       "      <td>93.000000</td>\n",
       "      <td>0.506000</td>\n",
       "      <td>0.495000</td>\n",
       "      <td>14.000000</td>\n",
       "      <td>...</td>\n",
       "      <td>28.000000</td>\n",
       "      <td>27.000000</td>\n",
       "      <td>9.000000</td>\n",
       "      <td>9.000000</td>\n",
       "      <td>17.000000</td>\n",
       "      <td>17.000000</td>\n",
       "      <td>6.000000</td>\n",
       "      <td>6.000000</td>\n",
       "      <td>120.000000</td>\n",
       "      <td>118.000000</td>\n",
       "    </tr>\n",
       "    <tr>\n",
       "      <th>max</th>\n",
       "      <td>2.220123e+07</td>\n",
       "      <td>1.000000</td>\n",
       "      <td>1.000000</td>\n",
       "      <td>63.000000</td>\n",
       "      <td>65.000000</td>\n",
       "      <td>123.000000</td>\n",
       "      <td>120.000000</td>\n",
       "      <td>0.655000</td>\n",
       "      <td>0.687000</td>\n",
       "      <td>28.000000</td>\n",
       "      <td>...</td>\n",
       "      <td>50.000000</td>\n",
       "      <td>47.000000</td>\n",
       "      <td>22.000000</td>\n",
       "      <td>19.000000</td>\n",
       "      <td>29.000000</td>\n",
       "      <td>30.000000</td>\n",
       "      <td>20.000000</td>\n",
       "      <td>19.000000</td>\n",
       "      <td>175.000000</td>\n",
       "      <td>176.000000</td>\n",
       "    </tr>\n",
       "  </tbody>\n",
       "</table>\n",
       "<p>8 rows × 37 columns</p>\n",
       "</div>"
      ],
      "text/plain": [
       "            MATCHID       W_HOME       W_AWAY      HOME_FG      AWAY_FG  \\\n",
       "count  7.059000e+03  7059.000000  7059.000000  7059.000000  7059.000000   \n",
       "mean   2.195074e+07     0.565944     0.434056    41.224536    40.551495   \n",
       "std    1.743087e+05     0.495667     0.495667     5.210381     5.177058   \n",
       "min    2.170000e+07     0.000000     0.000000    21.000000    23.000000   \n",
       "25%    2.180054e+07     0.000000     0.000000    38.000000    37.000000   \n",
       "50%    2.200001e+07     1.000000     0.000000    41.000000    40.000000   \n",
       "75%    2.210070e+07     1.000000     1.000000    45.000000    44.000000   \n",
       "max    2.220123e+07     1.000000     1.000000    63.000000    65.000000   \n",
       "\n",
       "          HOME_FGA     AWAY_FGA  HOME_FG_PCT  AWAY_FG_PCT     HOME_FG3  ...  \\\n",
       "count  7059.000000  7059.000000  7059.000000  7059.000000  7059.000000  ...   \n",
       "mean     88.088114    88.169854     0.469031     0.460826    12.023516  ...   \n",
       "std       7.163685     7.035244     0.055028     0.054234     3.899962  ...   \n",
       "min      64.000000    63.000000     0.269000     0.277000     1.000000  ...   \n",
       "25%      83.000000    83.000000     0.430000     0.424000     9.000000  ...   \n",
       "50%      88.000000    88.000000     0.468000     0.460000    12.000000  ...   \n",
       "75%      93.000000    93.000000     0.506000     0.495000    14.000000  ...   \n",
       "max     123.000000   120.000000     0.655000     0.687000    28.000000  ...   \n",
       "\n",
       "          HOME_AST     AWAY_AST     HOME_STL     AWAY_STL  HOME_TURNOVERS  \\\n",
       "count  7059.000000  7059.000000  7059.000000  7059.000000     7059.000000   \n",
       "mean     24.903244    24.082023     7.535487     7.625726       14.085565   \n",
       "std       5.073544     5.021596     2.906444     2.893284        3.892730   \n",
       "min      10.000000     8.000000     0.000000     0.000000        1.000000   \n",
       "25%      21.000000    21.000000     5.000000     6.000000       11.000000   \n",
       "50%      25.000000    24.000000     7.000000     7.000000       14.000000   \n",
       "75%      28.000000    27.000000     9.000000     9.000000       17.000000   \n",
       "max      50.000000    47.000000    22.000000    19.000000       29.000000   \n",
       "\n",
       "       AWAY_TURNOVERS     HOME_BLK     AWAY_BLK     HOME_PTS     AWAY_PTS  \n",
       "count     7059.000000  7059.000000  7059.000000  7059.000000  7059.000000  \n",
       "mean        14.097606     4.933843     4.695566   112.105822   110.064457  \n",
       "std          3.927541     2.503274     2.410388    12.577129    12.600582  \n",
       "min          2.000000     0.000000     0.000000    69.000000    68.000000  \n",
       "25%         11.000000     3.000000     3.000000   104.000000   102.000000  \n",
       "50%         14.000000     5.000000     4.000000   112.000000   110.000000  \n",
       "75%         17.000000     6.000000     6.000000   120.000000   118.000000  \n",
       "max         30.000000    20.000000    19.000000   175.000000   176.000000  \n",
       "\n",
       "[8 rows x 37 columns]"
      ]
     },
     "execution_count": 274,
     "metadata": {},
     "output_type": "execute_result"
    }
   ],
   "source": [
    "df.describe()"
   ]
  },
  {
   "cell_type": "code",
   "execution_count": 275,
   "id": "5dbb4bb1",
   "metadata": {},
   "outputs": [],
   "source": [
    "#Rename certain columns\n",
    "df = df.rename(columns ={ 'HOME': 'HOME_TEAMS', 'AWAY' : 'AWAY_TEAMS'})\n"
   ]
  },
  {
   "cell_type": "code",
   "execution_count": 276,
   "id": "6e9e6223",
   "metadata": {},
   "outputs": [
    {
     "data": {
      "text/plain": [
       "MATCHID                    int64\n",
       "DATE              datetime64[ns]\n",
       "SEASON                    object\n",
       "HOME_TEAMS                object\n",
       "AWAY_TEAMS                object\n",
       "W_HOME                     int64\n",
       "W_AWAY                     int64\n",
       "HOME_FG                    int64\n",
       "AWAY_FG                    int64\n",
       "HOME_FGA                   int64\n",
       "AWAY_FGA                   int64\n",
       "HOME_FG_PCT              float64\n",
       "AWAY_FG_PCT              float64\n",
       "HOME_FG3                   int64\n",
       "AWAY_FG3                   int64\n",
       "HOME_FG3A                  int64\n",
       "AWAY_FG3A                  int64\n",
       "HOME_FG3_PCT             float64\n",
       "AWAY_FG3_PCT             float64\n",
       "HOME_FT                    int64\n",
       "AWAY_FT                    int64\n",
       "HOME_FTA                   int64\n",
       "AWAY_FTA                   int64\n",
       "HOME_FT_PCT              float64\n",
       "AWAY_FT_PCT              float64\n",
       "HOME_OFF_REB               int64\n",
       "AWAY_OFF_REB               int64\n",
       "HOME_DEF_REB               int64\n",
       "AWAY_DEF_REB               int64\n",
       "HOME_TOT_REB               int64\n",
       "AWAY_TOT_REB               int64\n",
       "HOME_AST                   int64\n",
       "AWAY_AST                   int64\n",
       "HOME_STL                   int64\n",
       "AWAY_STL                   int64\n",
       "HOME_TURNOVERS             int64\n",
       "AWAY_TURNOVERS             int64\n",
       "HOME_BLK                   int64\n",
       "AWAY_BLK                   int64\n",
       "HOME_PTS                   int64\n",
       "AWAY_PTS                   int64\n",
       "dtype: object"
      ]
     },
     "execution_count": 276,
     "metadata": {},
     "output_type": "execute_result"
    }
   ],
   "source": [
    "#changing DATE from object to datetime\n",
    "df['DATE'] = pd.to_datetime(df['DATE'])\n",
    "df.dtypes"
   ]
  },
  {
   "cell_type": "code",
   "execution_count": 277,
   "id": "1a7c5e34",
   "metadata": {},
   "outputs": [
    {
     "data": {
      "text/plain": [
       "MATCHID           0\n",
       "DATE              0\n",
       "SEASON            0\n",
       "HOME_TEAMS        0\n",
       "AWAY_TEAMS        0\n",
       "W_HOME            0\n",
       "W_AWAY            0\n",
       "HOME_FG           0\n",
       "AWAY_FG           0\n",
       "HOME_FGA          0\n",
       "AWAY_FGA          0\n",
       "HOME_FG_PCT       0\n",
       "AWAY_FG_PCT       0\n",
       "HOME_FG3          0\n",
       "AWAY_FG3          0\n",
       "HOME_FG3A         0\n",
       "AWAY_FG3A         0\n",
       "HOME_FG3_PCT      0\n",
       "AWAY_FG3_PCT      0\n",
       "HOME_FT           0\n",
       "AWAY_FT           0\n",
       "HOME_FTA          0\n",
       "AWAY_FTA          0\n",
       "HOME_FT_PCT       0\n",
       "AWAY_FT_PCT       0\n",
       "HOME_OFF_REB      0\n",
       "AWAY_OFF_REB      0\n",
       "HOME_DEF_REB      0\n",
       "AWAY_DEF_REB      0\n",
       "HOME_TOT_REB      0\n",
       "AWAY_TOT_REB      0\n",
       "HOME_AST          0\n",
       "AWAY_AST          0\n",
       "HOME_STL          0\n",
       "AWAY_STL          0\n",
       "HOME_TURNOVERS    0\n",
       "AWAY_TURNOVERS    0\n",
       "HOME_BLK          0\n",
       "AWAY_BLK          0\n",
       "HOME_PTS          0\n",
       "AWAY_PTS          0\n",
       "dtype: int64"
      ]
     },
     "execution_count": 277,
     "metadata": {},
     "output_type": "execute_result"
    }
   ],
   "source": [
    "#null\n",
    "df.isna().sum()\n"
   ]
  },
  {
   "cell_type": "code",
   "execution_count": 278,
   "id": "9fc7f625",
   "metadata": {},
   "outputs": [
    {
     "data": {
      "text/plain": [
       "Unnamed: 0\n",
       "0       False\n",
       "1       False\n",
       "2       False\n",
       "3       False\n",
       "4       False\n",
       "        ...  \n",
       "7054    False\n",
       "7055    False\n",
       "7056    False\n",
       "7057    False\n",
       "7058    False\n",
       "Length: 7059, dtype: bool"
      ]
     },
     "execution_count": 278,
     "metadata": {},
     "output_type": "execute_result"
    }
   ],
   "source": [
    "#checking for duplicates \n",
    "df.duplicated()"
   ]
  },
  {
   "cell_type": "code",
   "execution_count": 279,
   "id": "dc30bbd3",
   "metadata": {},
   "outputs": [
    {
     "data": {
      "text/plain": [
       "Unnamed: 0\n",
       "0       False\n",
       "1        True\n",
       "2        True\n",
       "3        True\n",
       "4        True\n",
       "        ...  \n",
       "7054     True\n",
       "7055     True\n",
       "7056     True\n",
       "7057     True\n",
       "7058     True\n",
       "Length: 7059, dtype: bool"
      ]
     },
     "execution_count": 279,
     "metadata": {},
     "output_type": "execute_result"
    }
   ],
   "source": [
    "df.duplicated(subset = ['SEASON'])\n",
    "#some of data will be duplicated due to the fact that teams face each other more than once"
   ]
  },
  {
   "cell_type": "code",
   "execution_count": 280,
   "id": "c5e15003",
   "metadata": {},
   "outputs": [
    {
     "data": {
      "text/plain": [
       "76ers            238\n",
       "Magic            238\n",
       "Bucks            238\n",
       "Trail Blazers    238\n",
       "Heat             237\n",
       "Kings            237\n",
       "Pacers           237\n",
       "Mavericks        237\n",
       "Spurs            237\n",
       "Jazz             237\n",
       "Raptors          236\n",
       "Rockets          236\n",
       "Celtics          236\n",
       "Clippers         236\n",
       "Nets             236\n",
       "Pelicans         236\n",
       "Wizards          236\n",
       "Grizzlies        236\n",
       "Lakers           236\n",
       "Nuggets          236\n",
       "Thunder          235\n",
       "Suns             234\n",
       "Hornets          234\n",
       "Hawks            233\n",
       "Pistons          233\n",
       "Knicks           233\n",
       "Timberwolves     232\n",
       "Warriors         231\n",
       "Bulls            231\n",
       "Cavaliers        229\n",
       "Name: AWAY_TEAMS, dtype: int64"
      ]
     },
     "execution_count": 280,
     "metadata": {},
     "output_type": "execute_result"
    }
   ],
   "source": [
    "#how many away games did each team play from 2017 until now\n",
    "df['AWAY_TEAMS'].value_counts()"
   ]
  },
  {
   "cell_type": "code",
   "execution_count": 281,
   "id": "54dcd965",
   "metadata": {},
   "outputs": [
    {
     "data": {
      "text/plain": [
       "Suns             239\n",
       "Mavericks        238\n",
       "Grizzlies        237\n",
       "Thunder          237\n",
       "Nuggets          237\n",
       "Raptors          236\n",
       "Trail Blazers    236\n",
       "Clippers         236\n",
       "Celtics          236\n",
       "Nets             236\n",
       "Pelicans         236\n",
       "Pacers           236\n",
       "Rockets          236\n",
       "Heat             236\n",
       "Wizards          236\n",
       "Cavaliers        236\n",
       "Bucks            235\n",
       "Magic            235\n",
       "Jazz             235\n",
       "Kings            235\n",
       "76ers            235\n",
       "Lakers           235\n",
       "Spurs            234\n",
       "Bulls            234\n",
       "Hawks            234\n",
       "Warriors         234\n",
       "Knicks           233\n",
       "Pistons          233\n",
       "Timberwolves     232\n",
       "Hornets          231\n",
       "Name: HOME_TEAMS, dtype: int64"
      ]
     },
     "execution_count": 281,
     "metadata": {},
     "output_type": "execute_result"
    }
   ],
   "source": [
    "#How many home games did each team play from 2017 until now\n",
    "df['HOME_TEAMS'].value_counts()"
   ]
  },
  {
   "cell_type": "code",
   "execution_count": 282,
   "id": "414929bd",
   "metadata": {},
   "outputs": [
    {
     "name": "stdout",
     "output_type": "stream",
     "text": [
      "       AWAY_TEAMS  AWAY_FG3A\n",
      "22        Rockets       9494\n",
      "15      Mavericks       8910\n",
      "1           Bucks       8586\n",
      "10           Jazz       8503\n",
      "4         Celtics       8483\n",
      "16           Nets       8420\n",
      "28       Warriors       8307\n",
      "8            Heat       8251\n",
      "21        Raptors       8214\n",
      "25        Thunder       7932\n",
      "9         Hornets       7931\n",
      "27  Trail Blazers       7875\n",
      "7           Hawks       7813\n",
      "20        Pistons       7720\n",
      "14          Magic       7704\n",
      "11          Kings       7687\n",
      "26   Timberwolves       7626\n",
      "17        Nuggets       7620\n",
      "13         Lakers       7465\n",
      "0           76ers       7357\n",
      "5        Clippers       7355\n",
      "19       Pelicans       7309\n",
      "24           Suns       7234\n",
      "29        Wizards       7222\n",
      "6       Grizzlies       7184\n",
      "18         Pacers       7171\n",
      "12         Knicks       7115\n",
      "3       Cavaliers       7045\n",
      "2           Bulls       7014\n",
      "23          Spurs       6719\n"
     ]
    }
   ],
   "source": [
    "#which team has attempted the most 3s away\n",
    "ax = df[['AWAY_TEAMS','AWAY_FG3A']]\n",
    "ax = df.groupby('AWAY_TEAMS')['AWAY_FG3A'].sum().reset_index(inplace=False) \n",
    "ax = ax.sort_values(by='AWAY_FG3A', ascending=False)\n",
    "\n",
    "\n",
    "print (ax)\n"
   ]
  },
  {
   "cell_type": "code",
   "execution_count": 283,
   "id": "d2c0ed3d",
   "metadata": {},
   "outputs": [
    {
     "name": "stdout",
     "output_type": "stream",
     "text": [
      "       HOME_TEAMS  HOME_FG3A\n",
      "22        Rockets       9670\n",
      "15      Mavericks       9044\n",
      "10           Jazz       8753\n",
      "1           Bucks       8538\n",
      "4         Celtics       8479\n",
      "28       Warriors       8478\n",
      "27  Trail Blazers       8327\n",
      "21        Raptors       8190\n",
      "16           Nets       8188\n",
      "26   Timberwolves       7939\n",
      "7           Hawks       7909\n",
      "8            Heat       7891\n",
      "25        Thunder       7799\n",
      "9         Hornets       7781\n",
      "17        Nuggets       7686\n",
      "24           Suns       7552\n",
      "14          Magic       7549\n",
      "20        Pistons       7531\n",
      "3       Cavaliers       7465\n",
      "11          Kings       7428\n",
      "5        Clippers       7404\n",
      "19       Pelicans       7395\n",
      "6       Grizzlies       7377\n",
      "18         Pacers       7340\n",
      "13         Lakers       7334\n",
      "0           76ers       7321\n",
      "29        Wizards       7228\n",
      "12         Knicks       7214\n",
      "2           Bulls       7117\n",
      "23          Spurs       6662\n"
     ]
    }
   ],
   "source": [
    "#which team has attempted the most at home\n",
    "ax = df[['HOME_TEAMS','HOME_FG3A']]\n",
    "ax = df.groupby('HOME_TEAMS')['HOME_FG3A'].sum().reset_index() \n",
    "ax = ax.sort_values(by='HOME_FG3A', ascending=False)\n",
    "\n",
    "print(ax)"
   ]
  },
  {
   "cell_type": "code",
   "execution_count": 284,
   "id": "c9eb89a0",
   "metadata": {
    "scrolled": true
   },
   "outputs": [
    {
     "name": "stdout",
     "output_type": "stream",
     "text": [
      "       HOME_TEAMS  HOME_PTS\n",
      "1           Bucks     27484\n",
      "17        Nuggets     27209\n",
      "19       Pelicans     27023\n",
      "29        Wizards     26881\n",
      "5        Clippers     26863\n",
      "28       Warriors     26850\n",
      "0           76ers     26830\n",
      "27  Trail Blazers     26801\n",
      "7           Hawks     26781\n",
      "4         Celtics     26772\n",
      "24           Suns     26712\n",
      "21        Raptors     26700\n",
      "22        Rockets     26688\n",
      "10           Jazz     26655\n",
      "16           Nets     26456\n",
      "18         Pacers     26456\n",
      "15      Mavericks     26424\n",
      "11          Kings     26423\n",
      "25        Thunder     26410\n",
      "13         Lakers     26332\n",
      "6       Grizzlies     26275\n",
      "23          Spurs     26197\n",
      "26   Timberwolves     26181\n",
      "8            Heat     25840\n",
      "3       Cavaliers     25730\n",
      "9         Hornets     25410\n",
      "2           Bulls     25389\n",
      "12         Knicks     25287\n",
      "14          Magic     25203\n",
      "20        Pistons     25093\n"
     ]
    }
   ],
   "source": [
    "#Teams with the most home points\n",
    "ax = df[['HOME_TEAMS','HOME_PTS']]\n",
    "ax = df.groupby('HOME_TEAMS')['HOME_PTS'].sum().reset_index() \n",
    "ax = ax.sort_values(by='HOME_PTS', ascending=False)\n",
    "print(ax)"
   ]
  },
  {
   "cell_type": "code",
   "execution_count": 285,
   "id": "d923f8b4",
   "metadata": {},
   "outputs": [
    {
     "name": "stdout",
     "output_type": "stream",
     "text": [
      "       AWAY_TEAMS  AWAY_PTS\n",
      "1           Bucks     27304\n",
      "16           Nets     26627\n",
      "19       Pelicans     26536\n",
      "13         Lakers     26436\n",
      "10           Jazz     26357\n",
      "0           76ers     26348\n",
      "26   Timberwolves     26344\n",
      "5        Clippers     26306\n",
      "22        Rockets     26259\n",
      "21        Raptors     26193\n",
      "27  Trail Blazers     26140\n",
      "11          Kings     26103\n",
      "4         Celtics     26100\n",
      "28       Warriors     26058\n",
      "29        Wizards     26033\n",
      "17        Nuggets     26032\n",
      "23          Spurs     26027\n",
      "18         Pacers     26023\n",
      "15      Mavericks     25989\n",
      "24           Suns     25954\n",
      "6       Grizzlies     25806\n",
      "7           Hawks     25716\n",
      "9         Hornets     25668\n",
      "25        Thunder     25470\n",
      "8            Heat     25267\n",
      "14          Magic     25078\n",
      "2           Bulls     24998\n",
      "12         Knicks     24788\n",
      "20        Pistons     24589\n",
      "3       Cavaliers     24396\n"
     ]
    }
   ],
   "source": [
    "#Team with the most away points\n",
    "\n",
    "ax = df[['AWAY_TEAMS','AWAY_PTS']]\n",
    "ax = df.groupby('AWAY_TEAMS')['AWAY_PTS'].sum().reset_index() \n",
    "ax = ax.sort_values(by='AWAY_PTS', ascending=False)\n",
    "\n",
    "\n",
    "print(ax)"
   ]
  },
  {
   "cell_type": "code",
   "execution_count": 286,
   "id": "ef6b4cd3",
   "metadata": {},
   "outputs": [
    {
     "name": "stdout",
     "output_type": "stream",
     "text": [
      "       AWAY_TEAMS  W_AWAY\n",
      "1           Bucks     142\n",
      "4         Celtics     134\n",
      "21        Raptors     127\n",
      "0           76ers     126\n",
      "5        Clippers     123\n",
      "17        Nuggets     121\n",
      "10           Jazz     117\n",
      "8            Heat     113\n",
      "16           Nets     113\n",
      "28       Warriors     110\n",
      "13         Lakers     110\n",
      "24           Suns     108\n",
      "18         Pacers     105\n",
      "27  Trail Blazers     104\n",
      "25        Thunder     104\n",
      "15      Mavericks     100\n",
      "19       Pelicans      98\n",
      "22        Rockets      98\n",
      "11          Kings      97\n",
      "6       Grizzlies      94\n",
      "9         Hornets      92\n",
      "26   Timberwolves      89\n",
      "12         Knicks      88\n",
      "23          Spurs      88\n",
      "2           Bulls      84\n",
      "29        Wizards      84\n",
      "3       Cavaliers      83\n",
      "7           Hawks      75\n",
      "14          Magic      74\n",
      "20        Pistons      63\n"
     ]
    }
   ],
   "source": [
    "#Team with most away wins\n",
    "ax = df[['AWAY_TEAMS','W_AWAY']]\n",
    "ax = df.groupby('AWAY_TEAMS')['W_AWAY'].sum().reset_index() \n",
    "ax = ax.sort_values(by='W_AWAY', ascending=False)\n",
    "\n",
    "print(ax)"
   ]
  },
  {
   "cell_type": "code",
   "execution_count": 306,
   "id": "c87e52b6",
   "metadata": {},
   "outputs": [
    {
     "ename": "AttributeError",
     "evalue": "'Series' object has no attribute 'set_xlabel'",
     "output_type": "error",
     "traceback": [
      "\u001b[1;31m---------------------------------------------------------------------------\u001b[0m",
      "\u001b[1;31mAttributeError\u001b[0m                            Traceback (most recent call last)",
      "Cell \u001b[1;32mIn[306], line 4\u001b[0m\n\u001b[0;32m      1\u001b[0m ax \u001b[38;5;241m=\u001b[39m df\u001b[38;5;241m.\u001b[39mgroupby(\u001b[38;5;124m'\u001b[39m\u001b[38;5;124mAWAY_TEAMS\u001b[39m\u001b[38;5;124m'\u001b[39m)[\u001b[38;5;124m'\u001b[39m\u001b[38;5;124mW_AWAY\u001b[39m\u001b[38;5;124m'\u001b[39m]\u001b[38;5;241m.\u001b[39msum()\n\u001b[0;32m      3\u001b[0m ax\u001b[38;5;241m.\u001b[39mplot(kind\u001b[38;5;241m=\u001b[39m\u001b[38;5;124m'\u001b[39m\u001b[38;5;124mbar\u001b[39m\u001b[38;5;124m'\u001b[39m, title \u001b[38;5;241m=\u001b[39m \u001b[38;5;124m'\u001b[39m\u001b[38;5;124mTeams with the most away wins \u001b[39m\u001b[38;5;124m'\u001b[39m)\n\u001b[1;32m----> 4\u001b[0m \u001b[43max\u001b[49m\u001b[38;5;241;43m.\u001b[39;49m\u001b[43mset_xlabel\u001b[49m(\u001b[38;5;124m'\u001b[39m\u001b[38;5;124mTeams\u001b[39m\u001b[38;5;124m'\u001b[39m)\n\u001b[0;32m      5\u001b[0m ax\u001b[38;5;241m.\u001b[39mset_ylabel(\u001b[38;5;124m'\u001b[39m\u001b[38;5;124mWins\u001b[39m\u001b[38;5;124m'\u001b[39m)\n",
      "File \u001b[1;32mC:\\ProgramData\\anaconda3\\lib\\site-packages\\pandas\\core\\generic.py:5902\u001b[0m, in \u001b[0;36mNDFrame.__getattr__\u001b[1;34m(self, name)\u001b[0m\n\u001b[0;32m   5895\u001b[0m \u001b[38;5;28;01mif\u001b[39;00m (\n\u001b[0;32m   5896\u001b[0m     name \u001b[38;5;129;01mnot\u001b[39;00m \u001b[38;5;129;01min\u001b[39;00m \u001b[38;5;28mself\u001b[39m\u001b[38;5;241m.\u001b[39m_internal_names_set\n\u001b[0;32m   5897\u001b[0m     \u001b[38;5;129;01mand\u001b[39;00m name \u001b[38;5;129;01mnot\u001b[39;00m \u001b[38;5;129;01min\u001b[39;00m \u001b[38;5;28mself\u001b[39m\u001b[38;5;241m.\u001b[39m_metadata\n\u001b[0;32m   5898\u001b[0m     \u001b[38;5;129;01mand\u001b[39;00m name \u001b[38;5;129;01mnot\u001b[39;00m \u001b[38;5;129;01min\u001b[39;00m \u001b[38;5;28mself\u001b[39m\u001b[38;5;241m.\u001b[39m_accessors\n\u001b[0;32m   5899\u001b[0m     \u001b[38;5;129;01mand\u001b[39;00m \u001b[38;5;28mself\u001b[39m\u001b[38;5;241m.\u001b[39m_info_axis\u001b[38;5;241m.\u001b[39m_can_hold_identifiers_and_holds_name(name)\n\u001b[0;32m   5900\u001b[0m ):\n\u001b[0;32m   5901\u001b[0m     \u001b[38;5;28;01mreturn\u001b[39;00m \u001b[38;5;28mself\u001b[39m[name]\n\u001b[1;32m-> 5902\u001b[0m \u001b[38;5;28;01mreturn\u001b[39;00m \u001b[38;5;28;43mobject\u001b[39;49m\u001b[38;5;241;43m.\u001b[39;49m\u001b[38;5;21;43m__getattribute__\u001b[39;49m\u001b[43m(\u001b[49m\u001b[38;5;28;43mself\u001b[39;49m\u001b[43m,\u001b[49m\u001b[43m \u001b[49m\u001b[43mname\u001b[49m\u001b[43m)\u001b[49m\n",
      "\u001b[1;31mAttributeError\u001b[0m: 'Series' object has no attribute 'set_xlabel'"
     ]
    },
    {
     "data": {
      "image/png": "[encoded data removed]",
      "text/plain": [
       "<Figure size 640x480 with 1 Axes>"
      ]
     },
     "metadata": {},
     "output_type": "display_data"
    }
   ],
   "source": [
    "ax = df.groupby('AWAY_TEAMS')['W_AWAY'].sum()\n",
    "\n",
    "ax.plot(kind='bar', title = 'Teams with the most away wins ')\n",
    "ax.set_xlabel('Teams')\n",
    "ax.set_ylabel('Wins')"
   ]
  },
  {
   "cell_type": "code",
   "execution_count": 301,
   "id": "2706dfab",
   "metadata": {},
   "outputs": [
    {
     "name": "stdout",
     "output_type": "stream",
     "text": [
      "       HOME_TEAMS  W_HOME\n",
      "0           76ers     174\n",
      "17        Nuggets     173\n",
      "1           Bucks     173\n",
      "10           Jazz     163\n",
      "4         Celtics     162\n",
      "21        Raptors     159\n",
      "28       Warriors     156\n",
      "8            Heat     151\n",
      "5        Clippers     149\n",
      "6       Grizzlies     140\n",
      "27  Trail Blazers     135\n",
      "13         Lakers     132\n",
      "15      Mavericks     132\n",
      "18         Pacers     130\n",
      "16           Nets     129\n",
      "23          Spurs     128\n",
      "24           Suns     126\n",
      "26   Timberwolves     124\n",
      "7           Hawks     123\n",
      "25        Thunder     123\n",
      "22        Rockets     123\n",
      "3       Cavaliers     122\n",
      "19       Pelicans     122\n",
      "29        Wizards     120\n",
      "9         Hornets     109\n",
      "11          Kings     109\n",
      "2           Bulls     104\n",
      "12         Knicks     104\n",
      "14          Magic     103\n",
      "20        Pistons      97\n"
     ]
    }
   ],
   "source": [
    "#Team with most home wins\n",
    "ax = df[['HOME_TEAMS','W_HOME']]\n",
    "ax = df.groupby('HOME_TEAMS',)['W_HOME'].sum().reset_index()\n",
    "ax = ax.sort_values(by='W_HOME', ascending=False)\n",
    "\n",
    "print(ax)"
   ]
  },
  {
   "cell_type": "code",
   "execution_count": 309,
   "id": "6d728a3b",
   "metadata": {},
   "outputs": [
    {
     "ename": "AttributeError",
     "evalue": "'Series' object has no attribute 'set_xlabel'",
     "output_type": "error",
     "traceback": [
      "\u001b[1;31m---------------------------------------------------------------------------\u001b[0m",
      "\u001b[1;31mAttributeError\u001b[0m                            Traceback (most recent call last)",
      "Cell \u001b[1;32mIn[309], line 4\u001b[0m\n\u001b[0;32m      1\u001b[0m ax \u001b[38;5;241m=\u001b[39m df\u001b[38;5;241m.\u001b[39mgroupby(\u001b[38;5;124m'\u001b[39m\u001b[38;5;124mHOME_TEAMS\u001b[39m\u001b[38;5;124m'\u001b[39m)[\u001b[38;5;124m'\u001b[39m\u001b[38;5;124mW_HOME\u001b[39m\u001b[38;5;124m'\u001b[39m]\u001b[38;5;241m.\u001b[39msum()\n\u001b[0;32m      3\u001b[0m ax\u001b[38;5;241m.\u001b[39mplot(kind\u001b[38;5;241m=\u001b[39m\u001b[38;5;124m'\u001b[39m\u001b[38;5;124mbar\u001b[39m\u001b[38;5;124m'\u001b[39m, title \u001b[38;5;241m=\u001b[39m \u001b[38;5;124m'\u001b[39m\u001b[38;5;124mTeams with the most home wins \u001b[39m\u001b[38;5;124m'\u001b[39m)\n\u001b[1;32m----> 4\u001b[0m \u001b[43max\u001b[49m\u001b[38;5;241;43m.\u001b[39;49m\u001b[43mset_xlabel\u001b[49m(\u001b[38;5;124m'\u001b[39m\u001b[38;5;124mTeams\u001b[39m\u001b[38;5;124m'\u001b[39m)\n\u001b[0;32m      5\u001b[0m ax\u001b[38;5;241m.\u001b[39mset_ylabel(\u001b[38;5;124m'\u001b[39m\u001b[38;5;124mWins\u001b[39m\u001b[38;5;124m'\u001b[39m)\n",
      "File \u001b[1;32mC:\\ProgramData\\anaconda3\\lib\\site-packages\\pandas\\core\\generic.py:5902\u001b[0m, in \u001b[0;36mNDFrame.__getattr__\u001b[1;34m(self, name)\u001b[0m\n\u001b[0;32m   5895\u001b[0m \u001b[38;5;28;01mif\u001b[39;00m (\n\u001b[0;32m   5896\u001b[0m     name \u001b[38;5;129;01mnot\u001b[39;00m \u001b[38;5;129;01min\u001b[39;00m \u001b[38;5;28mself\u001b[39m\u001b[38;5;241m.\u001b[39m_internal_names_set\n\u001b[0;32m   5897\u001b[0m     \u001b[38;5;129;01mand\u001b[39;00m name \u001b[38;5;129;01mnot\u001b[39;00m \u001b[38;5;129;01min\u001b[39;00m \u001b[38;5;28mself\u001b[39m\u001b[38;5;241m.\u001b[39m_metadata\n\u001b[0;32m   5898\u001b[0m     \u001b[38;5;129;01mand\u001b[39;00m name \u001b[38;5;129;01mnot\u001b[39;00m \u001b[38;5;129;01min\u001b[39;00m \u001b[38;5;28mself\u001b[39m\u001b[38;5;241m.\u001b[39m_accessors\n\u001b[0;32m   5899\u001b[0m     \u001b[38;5;129;01mand\u001b[39;00m \u001b[38;5;28mself\u001b[39m\u001b[38;5;241m.\u001b[39m_info_axis\u001b[38;5;241m.\u001b[39m_can_hold_identifiers_and_holds_name(name)\n\u001b[0;32m   5900\u001b[0m ):\n\u001b[0;32m   5901\u001b[0m     \u001b[38;5;28;01mreturn\u001b[39;00m \u001b[38;5;28mself\u001b[39m[name]\n\u001b[1;32m-> 5902\u001b[0m \u001b[38;5;28;01mreturn\u001b[39;00m \u001b[38;5;28;43mobject\u001b[39;49m\u001b[38;5;241;43m.\u001b[39;49m\u001b[38;5;21;43m__getattribute__\u001b[39;49m\u001b[43m(\u001b[49m\u001b[38;5;28;43mself\u001b[39;49m\u001b[43m,\u001b[49m\u001b[43m \u001b[49m\u001b[43mname\u001b[49m\u001b[43m)\u001b[49m\n",
      "\u001b[1;31mAttributeError\u001b[0m: 'Series' object has no attribute 'set_xlabel'"
     ]
    },
    {
     "data": {
      "image/png": "[encoded data removed]",
      "text/plain": [
       "<Figure size 640x480 with 1 Axes>"
      ]
     },
     "metadata": {},
     "output_type": "display_data"
    }
   ],
   "source": [
    "ax = df.groupby('HOME_TEAMS')['W_HOME'].sum()\n",
    "\n",
    "ax.plot(kind='bar', title = 'Teams with the most home wins ')\n",
    "ax.set_xlabel('Teams')\n",
    "ax.set_ylabel('Wins')"
   ]
  },
  {
   "cell_type": "code",
   "execution_count": 310,
   "id": "78e2bf62",
   "metadata": {},
   "outputs": [
    {
     "ename": "NameError",
     "evalue": "name 'plot' is not defined",
     "output_type": "error",
     "traceback": [
      "\u001b[1;31m---------------------------------------------------------------------------\u001b[0m",
      "\u001b[1;31mNameError\u001b[0m                                 Traceback (most recent call last)",
      "Cell \u001b[1;32mIn[310], line 7\u001b[0m\n\u001b[0;32m      1\u001b[0m \u001b[38;5;66;03m#relationship between 3 points attempts and points per game\u001b[39;00m\n\u001b[0;32m      3\u001b[0m df\u001b[38;5;241m.\u001b[39mplot(kind\u001b[38;5;241m=\u001b[39m \u001b[38;5;124m'\u001b[39m\u001b[38;5;124mscatter\u001b[39m\u001b[38;5;124m'\u001b[39m,\n\u001b[0;32m      4\u001b[0m         y\u001b[38;5;241m=\u001b[39m\u001b[38;5;124m'\u001b[39m\u001b[38;5;124mHOME_FG3A\u001b[39m\u001b[38;5;124m'\u001b[39m,\n\u001b[0;32m      5\u001b[0m         x\u001b[38;5;241m=\u001b[39m\u001b[38;5;124m'\u001b[39m\u001b[38;5;124mHOME_PTS\u001b[39m\u001b[38;5;124m'\u001b[39m,\n\u001b[0;32m      6\u001b[0m         title\u001b[38;5;241m=\u001b[39m\u001b[38;5;124m'\u001b[39m\u001b[38;5;124m3 pts attempts VS total points\u001b[39m\u001b[38;5;124m'\u001b[39m)\n\u001b[1;32m----> 7\u001b[0m \u001b[43mplot\u001b[49m\u001b[38;5;241m.\u001b[39mshow\n",
      "\u001b[1;31mNameError\u001b[0m: name 'plot' is not defined"
     ]
    },
    {
     "data": {
      "image/png": "[encoded data removed]",
      "text/plain": [
       "<Figure size 640x480 with 1 Axes>"
      ]
     },
     "metadata": {},
     "output_type": "display_data"
    }
   ],
   "source": [
    "#relationship between 3 points attempts and points per game\n",
    "\n",
    "df.plot(kind= 'scatter',\n",
    "        y='HOME_FG3A',\n",
    "        x='HOME_PTS',\n",
    "        title='3 pts attempts VS total points')\n",
    "plot.show\n"
   ]
  },
  {
   "cell_type": "code",
   "execution_count": 322,
   "id": "ea6f14bf",
   "metadata": {},
   "outputs": [
    {
     "name": "stdout",
     "output_type": "stream",
     "text": [
      "                W_AWAY  AWAY_DEF_REB  AWAY_BLK  AWAY_STL\n",
      "W_AWAY        1.000000      0.370355  0.159001  0.121101\n",
      "AWAY_DEF_REB  0.370355      1.000000  0.211438 -0.172901\n",
      "AWAY_BLK      0.159001      0.211438  1.000000 -0.001591\n",
      "AWAY_STL      0.121101     -0.172901 -0.001591  1.000000\n"
     ]
    }
   ],
   "source": [
    "#correlation between away wins and defensive stats\n",
    "df_corr = df[['W_AWAY','AWAY_DEF_REB','AWAY_BLK','AWAY_STL']].dropna().corr()\n",
    "print(df_corr)"
   ]
  },
  {
   "cell_type": "code",
   "execution_count": 323,
   "id": "7928926c",
   "metadata": {},
   "outputs": [
    {
     "data": {
      "text/plain": [
       "<Axes: >"
      ]
     },
     "execution_count": 323,
     "metadata": {},
     "output_type": "execute_result"
    },
    {
     "data": {
      "image/png": "[encoded data removed]",
      "text/plain": [
       "<Figure size 640x480 with 2 Axes>"
      ]
     },
     "metadata": {},
     "output_type": "display_data"
    }
   ],
   "source": [
    "sns.heatmap(df_corr)"
   ]
  },
  {
   "cell_type": "code",
   "execution_count": 327,
   "id": "8736a573",
   "metadata": {},
   "outputs": [
    {
     "name": "stdout",
     "output_type": "stream",
     "text": [
      "                W_AWAY  AWAY_AST  AWAY_OFF_REB   AWAY_FT  AWAY_FG3  \\\n",
      "W_AWAY        1.000000  0.294671     -0.008273  0.119778  0.264995   \n",
      "AWAY_AST      0.294671  1.000000     -0.080834 -0.149174  0.436768   \n",
      "AWAY_OFF_REB -0.008273 -0.080834      1.000000  0.071956 -0.091711   \n",
      "AWAY_FT       0.119778 -0.149174      0.071956  1.000000 -0.130192   \n",
      "AWAY_FG3      0.264995  0.436768     -0.091711 -0.130192  1.000000   \n",
      "AWAY_FG_PCT   0.436720  0.551458     -0.319166 -0.044534  0.301158   \n",
      "\n",
      "              AWAY_FG_PCT  \n",
      "W_AWAY           0.436720  \n",
      "AWAY_AST         0.551458  \n",
      "AWAY_OFF_REB    -0.319166  \n",
      "AWAY_FT         -0.044534  \n",
      "AWAY_FG3         0.301158  \n",
      "AWAY_FG_PCT      1.000000  \n"
     ]
    }
   ],
   "source": [
    "#correlation between away wins and offensive stats \n",
    "df_corr2 = df[['W_AWAY','AWAY_AST','AWAY_OFF_REB','AWAY_FT','AWAY_FG3','AWAY_FG_PCT']].dropna().corr()\n",
    "print(df_corr2)"
   ]
  },
  {
   "cell_type": "code",
   "execution_count": 328,
   "id": "414bf8bd",
   "metadata": {},
   "outputs": [
    {
     "data": {
      "text/plain": [
       "<Axes: >"
      ]
     },
     "execution_count": 328,
     "metadata": {},
     "output_type": "execute_result"
    },
    {
     "data": {
      "image/png": "[encoded data removed]",
      "text/plain": [
       "<Figure size 640x480 with 2 Axes>"
      ]
     },
     "metadata": {},
     "output_type": "display_data"
    }
   ],
   "source": [
    "sns.heatmap(df_corr2)"
   ]
  },
  {
   "cell_type": "code",
   "execution_count": null,
   "id": "6fe4465a",
   "metadata": {},
   "outputs": [],
   "source": []
  }
 ],
 "metadata": {
  "kernelspec": {
   "display_name": "Python 3 (ipykernel)",
   "language": "python",
   "name": "python3"
  },
  "language_info": {
   "codemirror_mode": {
    "name": "ipython",
    "version": 3
   },
   "file_extension": ".py",
   "mimetype": "text/x-python",
   "name": "python",
   "nbconvert_exporter": "python",
   "pygments_lexer": "ipython3",
   "version": "3.10.9"
  }
 },
 "nbformat": 4,
 "nbformat_minor": 5
}
